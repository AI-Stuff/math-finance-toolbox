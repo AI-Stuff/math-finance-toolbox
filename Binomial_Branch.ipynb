{
 "cells": [
  {
   "cell_type": "markdown",
   "metadata": {},
   "source": [
    "# Binomial Branch Model"
   ]
  },
  {
   "cell_type": "markdown",
   "metadata": {},
   "source": [
    "Suppose we have a stock (an underlying), a risk-free bond, and a derivative whose payoff depends on the stock.  Consider only one period.  In the next period, the stock price can only go up or go down, and there is only one possible price in either one of these directions.  The question is: how can we price the derivative?"
   ]
  },
  {
   "cell_type": "markdown",
   "metadata": {},
   "source": [
    "Suppose we are given the following: <br>\n",
    "Stock: Initial price $s_0$, up price $s_u$, down price $s_d$ <br>\n",
    "Bond: continuously componded risk-free rate $r$ <br>\n",
    "Derivative: up payoff $f_u$, down payoff $f_d$ <br>\n",
    "and of course, the time elapsed $\\Delta t$."
   ]
  },
  {
   "cell_type": "markdown",
   "metadata": {},
   "source": [
    "## Replicating Portfolio Approach"
   ]
  },
  {
   "cell_type": "markdown",
   "metadata": {},
   "source": [
    "Let's introduce an axiom first. <br>\n",
    "\n",
    "***No Arbitrage Axiom.***  There is no arbitrage opportunity in financial markets.  Namely, we cannot get risk-free free cash flows by simultaneous buying and selling."
   ]
  },
  {
   "cell_type": "markdown",
   "metadata": {},
   "source": [
    "Based on this axiom, we have the following intuition: <br>\n",
    "If somehow, we can replicate the payoffs of the derivative using stocks and bonds, then the price of the derivative today must be equal to the price of the stock & bond portfolio.  Otherwise, there is an arbitrage opportunity."
   ]
  },
  {
   "cell_type": "markdown",
   "metadata": {},
   "source": [
    "So we can assume the portfolio to be made up of x shares of stock, and y shares of bonds.  In the end, the portfolio generates the same payoff as the derivative.  Therefore, we setup the following equations: <br><br>\n",
    "$$\n",
    "\\begin{cases}\n",
    "    xs_u + ye^{r\\Delta t} = f_u \\\\\n",
    "    xs_d + ye^{r\\Delta t} = f_d\n",
    "\\end{cases}\n",
    "$$"
   ]
  },
  {
   "cell_type": "markdown",
   "metadata": {},
   "source": [
    "Solving the above equations we have the solution: <br>\n",
    "\n",
    "$$\n",
    "\\begin{cases}\n",
    "    x = \\frac{f_u - f_d}{s_u - s_d} \\\\\n",
    "    y = e^{-r\\Delta t} \\frac{f_ds_u - f_us_d}{s_u - s_d}\n",
    "\\end{cases}\n",
    "$$ \n",
    "where $x$ is referred to as *hedge ratio*, because longing 1 share of the derivative and $x$ shares of stock results in a risk-free investment, as $f_0 = xs_0 + y$."
   ]
  },
  {
   "cell_type": "markdown",
   "metadata": {},
   "source": [
    "Hence the initial price of the derivative <br><br>\n",
    "$$\n",
    "\\begin{align}\n",
    "f_0 &= xs_0 + y \\\\\n",
    "    &= e^{-r \\Delta t} [ \\frac{s_0e^{r\\Delta t} - s_d}{s_u - s_d}f_u + (1 - \\frac{s_0e^{r\\Delta t} - s_d}{s_u - s_d}) f_d]\n",
    "\\end{align}\n",
    "$$\n",
    "<br>\n",
    "Notice that the coefficient before $f_u$ and $f_d$.  If we let $$q = \\frac{s_0e^{r\\Delta t} - s_d}{s_u - s_d},$$\n",
    "the price can be rewritten as <br>\n",
    "\n",
    "$$\n",
    "f_0 = e^{-r \\Delta t} [ qf_u + (1 - q) f_d],\n",
    "$$\n",
    "<br>\n",
    "where $q$ is a value between $0$ and $1$ (so-called risk-neutral probability, which will be mentioned in the second approach)."
   ]
  },
  {
   "cell_type": "markdown",
   "metadata": {},
   "source": [
    "Now we are ready to translate this approach into a function."
   ]
  },
  {
   "cell_type": "markdown",
   "metadata": {},
   "source": [
    "## Martingale Approach"
   ]
  },
  {
   "cell_type": "markdown",
   "metadata": {},
   "source": [
    "Alternatively, we can find a measure $Q$ that makes the risk-free discounted stock price process a martingale, then the risk-free discounted derivative will also be a $Q$-martingale.  The price of the derivative today is, therefore, the expected discounted future payoffs at the risk-free rate under $Q$-measure."
   ]
  },
  {
   "cell_type": "markdown",
   "metadata": {},
   "source": [
    "Solving for $q$ in the following equation: <br>\n",
    "\n",
    "$$\n",
    "    s_0 = qe^{-r\\Delta t}s_u + (1-q)e^{-r\\Delta t}s_d,\n",
    "$$\n",
    "we have \n",
    "$$\n",
    "q = \\frac{s_0e^{r\\Delta t} - s_d}{s_u - s_d}.\n",
    "$$"
   ]
  },
  {
   "cell_type": "markdown",
   "metadata": {},
   "source": [
    "The $q$ is referred to as the \"risk-neutral probability\" as this measure assumes that investors are indifferent to risk involved (no standard deviation/variance)."
   ]
  },
  {
   "cell_type": "markdown",
   "metadata": {},
   "source": [
    "The $Q$-measure also applies to the derivative, so <br><br>\n",
    "$$\n",
    "f_0 = qe^{-r\\Delta t}f_u + (1-q)e^{-r\\Delta t}f_d.\n",
    "$$\n",
    "<br>\n",
    "The same formula as that in the replicating portfolio approach, but we have a different interpretation."
   ]
  },
  {
   "cell_type": "markdown",
   "metadata": {},
   "source": [
    "## Implementation"
   ]
  },
  {
   "cell_type": "code",
   "execution_count": 1,
   "metadata": {},
   "outputs": [],
   "source": [
    "import math"
   ]
  },
  {
   "cell_type": "code",
   "execution_count": 2,
   "metadata": {},
   "outputs": [],
   "source": [
    "def binomial_branch(s0, su, sd, r, fu, fd, dt, verbose=False):\n",
    "    if verbose:\n",
    "        print(\"Pricing a derivative with the following information: \")\n",
    "        print(\"    s0: {}, su: {}, sd: {}\".format(s0, su, sd))\n",
    "        print(\"    continuously compounded risk-free rate: {}\".format(r))\n",
    "        print(\"    fu: {}, fd: {}\".format(fu, fd))\n",
    "    discount_factor = math.exp(-r * dt)\n",
    "    x = (fu - fd) / (su - sd)\n",
    "    q = (s0 / discount_factor - sd) / (su - sd)\n",
    "    f0 = discount_factor * (q * fu + (1-q) * fd)\n",
    "    print(\"Result\")\n",
    "    print(\"    Hedge ratio: {}\".format(x))\n",
    "    print(\"    Price: {}\".format(f0))"
   ]
  },
  {
   "cell_type": "code",
   "execution_count": 3,
   "metadata": {},
   "outputs": [
    {
     "name": "stdout",
     "output_type": "stream",
     "text": [
      "Pricing a derivative with the following information: \n",
      "    s0: 100, su: 109.0463, sd: 91.70415\n",
      "    continuously compounded risk-free rate: 0.05\n",
      "    fu: 10, fd: 8.5\n",
      "Result\n",
      "    Hedge ratio: 0.08649446579576349\n",
      "    Price: 9.215182961413557\n"
     ]
    }
   ],
   "source": [
    "binomial_branch(100, 109.0463, 91.70415, .05, 10, 8.5, 1./12, verbose=True)"
   ]
  }
 ],
 "metadata": {
  "kernelspec": {
   "display_name": "Python 3",
   "language": "python",
   "name": "python3"
  },
  "language_info": {
   "codemirror_mode": {
    "name": "ipython",
    "version": 3
   },
   "file_extension": ".py",
   "mimetype": "text/x-python",
   "name": "python",
   "nbconvert_exporter": "python",
   "pygments_lexer": "ipython3",
   "version": "3.6.5"
  }
 },
 "nbformat": 4,
 "nbformat_minor": 2
}
