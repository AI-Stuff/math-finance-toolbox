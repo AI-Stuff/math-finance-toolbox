{
 "cells": [
  {
   "cell_type": "markdown",
   "metadata": {},
   "source": [
    "# Binomial Tree Model"
   ]
  },
  {
   "cell_type": "markdown",
   "metadata": {},
   "source": [
    "The binomial tree model is an extension of the binomial branch model, with more discrete time steps over the life of a derivative.  More complexities are introduced not only with more layers in the framework, but also with different payoff functions of derivatives products enabled by such a framework: vanilla European call/put, American options, exotic options like European/American Lookback call/put, Asian options, etc.  Some of them are path-independent, like vanilla European call; others are path-dependent, such as Lookback options."
   ]
  },
  {
   "cell_type": "markdown",
   "metadata": {},
   "source": [
    "Despite the complexities of this framework and different payoff rules, the underlying principles are the same as the binomial branch model, centering around no-arbitrage axiom, and martingale with $Q$-measure."
   ]
  },
  {
   "cell_type": "markdown",
   "metadata": {},
   "source": [
    "Let's take a simple case to start with: pricing a 3-layer derivative and payoffs are 100 if stock price ends up higher than that at time 0, and 0 otherwise (Ct.).  Later, building on this model, we can develop a more general implementation of the framework."
   ]
  },
  {
   "cell_type": "markdown",
   "metadata": {},
   "source": [
    "Input\n",
    "```\n",
    "    1. A tree with realizations of stock prices at each time t in {0, 1, 2}\n",
    "    2. Continuously compounded risk-free interest rate r\n",
    "    3. Strike price K\n",
    "```"
   ]
  },
  {
   "cell_type": "code",
   "execution_count": 1,
   "metadata": {},
   "outputs": [],
   "source": [
    "import math"
   ]
  },
  {
   "cell_type": "code",
   "execution_count": 2,
   "metadata": {},
   "outputs": [],
   "source": [
    "class Node:\n",
    "    \"\"\"Assume a complete binary tree\"\"\"\n",
    "    def __init__(self, value=0, t=0, up=None, down=None, q=0):\n",
    "        \"\"\"\n",
    "            Initialize a new node in a generic binomial tree.\n",
    "        \"\"\"\n",
    "        self.value = value\n",
    "        self.t = t\n",
    "        self.up = up\n",
    "        self.down = down\n",
    "        self.q = q\n",
    "        self.x = 0\n",
    "    \n",
    "    def calculate_value(self, r, dt):\n",
    "        \"\"\"\n",
    "            Calculate, update and return the value of a node recursively under Q measure.\n",
    "        \"\"\"\n",
    "        if self.up != None and self.down != None:\n",
    "            q = self.q\n",
    "            discount_factor = math.exp(-r * dt)\n",
    "            self.value = discount_factor * (q * self.up.calculate_value(r, dt) + (1 - q) * self.down.calculate_value(r, dt))\n",
    "        return self.value\n",
    "    \n",
    "    def calculate_q(self, r, dt):\n",
    "        \"\"\"\n",
    "            Calculate the risk-neutral probabilities of a binomial stock tree.  \n",
    "            Once the function is called, probabilities of nodes in the whole subtree \n",
    "            with current node as root will be updated.\n",
    "        \"\"\"\n",
    "        if self.up != None and self.down != None:\n",
    "            self.q = (self.value * math.exp(r * dt) - self.down.value) / (self.up.value - self.down.value)\n",
    "            self.up.calculate_q(r, dt)\n",
    "            self.down.calculate_q(r, dt)\n",
    "        return self.q"
   ]
  },
  {
   "cell_type": "code",
   "execution_count": 3,
   "metadata": {},
   "outputs": [],
   "source": [
    "# some setup for test case\n",
    "s1 = Node(value=215)\n",
    "s2 = Node(value=230, t=1)\n",
    "s3 = Node(value=190, t=1)\n",
    "s1.up = s2\n",
    "s1.down = s3\n",
    "\n",
    "s4 = Node(value=240, t=2)\n",
    "s5 = Node(value=220, t=2)\n",
    "s6 = Node(value=200, t=2)\n",
    "s7 = Node(value=180, t=2)\n",
    "s2.up = s4\n",
    "s2.down = s5\n",
    "s3.up = s6\n",
    "s3.down = s7"
   ]
  },
  {
   "cell_type": "code",
   "execution_count": 4,
   "metadata": {},
   "outputs": [
    {
     "data": {
      "text/plain": [
       "0.69260917703091"
      ]
     },
     "execution_count": 4,
     "metadata": {},
     "output_type": "execute_result"
    }
   ],
   "source": [
    "s1.calculate_q(r=.05, dt=.25)"
   ]
  },
  {
   "cell_type": "code",
   "execution_count": 5,
   "metadata": {},
   "outputs": [
    {
     "data": {
      "text/plain": [
       "(0.69260917703091, 0.6446521927172952, 0.6194952896360263)"
      ]
     },
     "execution_count": 5,
     "metadata": {},
     "output_type": "execute_result"
    }
   ],
   "source": [
    "s1.q, s2.q, s3.q"
   ]
  },
  {
   "cell_type": "code",
   "execution_count": 6,
   "metadata": {},
   "outputs": [],
   "source": [
    "# setup for calculating derivative contract value\n",
    "f4 = Node(value=100, t=2)\n",
    "f5 = Node(value=100, t=2)\n",
    "f6 = Node(value=0, t=2)\n",
    "f7 = Node(value=0, t=2)\n",
    "\n",
    "f2 = Node(t=1, up=f4, down=f5, q=s2.q)\n",
    "f3 = Node(t=1, up=f6, down=f7, q=s3.q)\n",
    "\n",
    "f1 = Node(t=0, up=f2, down=f3, q=s1.q)"
   ]
  },
  {
   "cell_type": "code",
   "execution_count": 7,
   "metadata": {},
   "outputs": [
    {
     "data": {
      "text/plain": [
       "67.55085955200326"
      ]
     },
     "execution_count": 7,
     "metadata": {},
     "output_type": "execute_result"
    }
   ],
   "source": [
    "f1.calculate_value(r=.05, dt=.25)"
   ]
  },
  {
   "cell_type": "code",
   "execution_count": 8,
   "metadata": {},
   "outputs": [
    {
     "data": {
      "text/plain": [
       "(67.55085955200326, 98.75778004938815, 0.0, 100, 100, 0, 0)"
      ]
     },
     "execution_count": 8,
     "metadata": {},
     "output_type": "execute_result"
    }
   ],
   "source": [
    "f1.value, f2.value, f3.value, f4.value, f5.value, f6.value, f7.value"
   ]
  },
  {
   "cell_type": "code",
   "execution_count": 9,
   "metadata": {},
   "outputs": [],
   "source": [
    "# calculate hedge ratio\n",
    "x1 = (f2.value - f3.value) / (s2.value - s3.value)\n",
    "x2 = (f4.value - f5.value) / (s4.value - s5.value)\n",
    "x3 = (f6.value - f7.value) / (s6.value - s7.value)"
   ]
  },
  {
   "cell_type": "code",
   "execution_count": 10,
   "metadata": {},
   "outputs": [
    {
     "data": {
      "text/plain": [
       "(2.4689445012347035, 0.0, 0.0)"
      ]
     },
     "execution_count": 10,
     "metadata": {},
     "output_type": "execute_result"
    }
   ],
   "source": [
    "x1, x2, x3"
   ]
  }
 ],
 "metadata": {
  "kernelspec": {
   "display_name": "Python 3",
   "language": "python",
   "name": "python3"
  },
  "language_info": {
   "codemirror_mode": {
    "name": "ipython",
    "version": 3
   },
   "file_extension": ".py",
   "mimetype": "text/x-python",
   "name": "python",
   "nbconvert_exporter": "python",
   "pygments_lexer": "ipython3",
   "version": "3.6.5"
  }
 },
 "nbformat": 4,
 "nbformat_minor": 2
}
