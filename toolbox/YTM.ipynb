{
 "cells": [
  {
   "cell_type": "markdown",
   "metadata": {},
   "source": [
    "# Yield to Maturity (YTM)"
   ]
  },
  {
   "cell_type": "markdown",
   "metadata": {},
   "source": [
    "Using the Newton-Raphson method: \n",
    "$$y_{n+1} = y_n - \\frac{F(y_n)}{F'(y_n)}$$\n",
    "where \n",
    "$$ F(y) = \\frac{C}{1+y} + \\frac{C}{(1+y)^2} + ... + \\frac{C}{(1+y)^N} + \\frac{FV}{(1+y)^N} + PV \\\\ = C[ \\frac{1 - \\frac{1}{(1 + y)^N} }{y}] + \\frac{FV}{(1+y)^N} + PV $$\n",
    "and\n",
    "$$ F'(y) = -\\frac{C}{(1+y)^2} - \\frac{2C}{(1+y)^3} - ... - \\frac{N * C}{(1 + y)^{N+1}} - \\frac {N * FV}{(1+y)^{N+1}} $$"
   ]
  },
  {
   "cell_type": "code",
   "execution_count": 1,
   "metadata": {},
   "outputs": [],
   "source": [
    "def F(y, C, FV, N, PV):\n",
    "    return C * ( (1 - 1 / ( (1 + y) ** N ) ) / y ) + FV / ( (1 + y) ** N ) + PV"
   ]
  },
  {
   "cell_type": "code",
   "execution_count": 2,
   "metadata": {},
   "outputs": [],
   "source": [
    "def dF(y, C, FV, N, PV):\n",
    "    dF_y = 0\n",
    "    for i in range(N):\n",
    "        dF_y -=  (i + 1) * C / ((1 + y) ** (i + 2))\n",
    "    dF_y -= N * FV / ( (1 + y) ** (N+1))\n",
    "    return dF_y"
   ]
  },
  {
   "cell_type": "code",
   "execution_count": 3,
   "metadata": {},
   "outputs": [],
   "source": [
    "def YTM(C, FV, N, PV, itr=1000):\n",
    "    y = C / FV\n",
    "    for i in range(itr):\n",
    "        y = y - F(y, C, FV, N, PV) / dF(y, C, FV, N, PV)\n",
    "    return y * 200"
   ]
  },
  {
   "cell_type": "code",
   "execution_count": 4,
   "metadata": {},
   "outputs": [
    {
     "data": {
      "text/plain": [
       "4.240565885419982"
      ]
     },
     "execution_count": 4,
     "metadata": {},
     "output_type": "execute_result"
    }
   ],
   "source": [
    "YTM(10, 1000, 10, -900)"
   ]
  }
 ],
 "metadata": {
  "kernelspec": {
   "display_name": "Python 3",
   "language": "python",
   "name": "python3"
  },
  "language_info": {
   "codemirror_mode": {
    "name": "ipython",
    "version": 3
   },
   "file_extension": ".py",
   "mimetype": "text/x-python",
   "name": "python",
   "nbconvert_exporter": "python",
   "pygments_lexer": "ipython3",
   "version": "3.6.5"
  }
 },
 "nbformat": 4,
 "nbformat_minor": 2
}
