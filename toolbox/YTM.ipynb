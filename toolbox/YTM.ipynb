{
 "cells": [
  {
   "cell_type": "markdown",
   "metadata": {},
   "source": [
    "# Yield to Maturity (YTM)"
   ]
  },
  {
   "cell_type": "markdown",
   "metadata": {},
   "source": [
    "Using the Newton-Raphson method: \n",
    "$$y_{n+1} = y_n - \\frac{F(y_n)}{F'(y_n)}$$\n",
    "where \n",
    "$$ F(y) = \\frac{C}{1+y} + \\frac{C}{(1+y)^2} + ... + \\frac{C}{(1+y)^N} + \\frac{FV}{(1+y)^N} + PV \\\\ = C[ \\frac{1 - \\frac{1}{(1 + y)^N} }{y}] + \\frac{FV}{(1+y)^N} + PV $$\n",
    "and\n",
    "$$ F'(y) = -\\frac{C}{(1+y)^2} - \\frac{2C}{(1+y)^3} - ... - \\frac{N * C}{(1 + y)^{N+1}} - \\frac {N * FV}{(1+y)^{N+1}} \\\\ = -C \\{ \\frac{1}{y^2}[1 - \\frac{1}{(1 + y)^N}] - \\frac{N}{y (1 + y)^{N+1}} \\}$$"
   ]
  },
  {
   "cell_type": "code",
   "execution_count": 1,
   "metadata": {},
   "outputs": [],
   "source": [
    "def F(y, C, FV, N, PV):\n",
    "    return C * ( (1 - 1 / ( (1 + y) ** N ) ) / y ) + FV / ( (1 + y) ** N ) + PV"
   ]
  },
  {
   "cell_type": "code",
   "execution_count": 2,
   "metadata": {},
   "outputs": [],
   "source": [
    "def dF(y, C, FV, N, PV):\n",
    "    return -C * ( (1 / y ** 2) * (1 -  1 / (1 + y) ** N ) ) - N / (y * (1 + y) ** (N + 1))"
   ]
  },
  {
   "cell_type": "code",
   "execution_count": 3,
   "metadata": {},
   "outputs": [],
   "source": [
    "def YTM(C, FV, N, PV, itr=1000):\n",
    "    \"\"\"\n",
    "        C: periodic coupon rate, or payment\n",
    "        FV: future value of the series of cash flows\n",
    "        N: number of periods\n",
    "        PV: present value of the cash flow\n",
    "        \n",
    "        The resulting YTM is a periodic rate.\n",
    "    \"\"\"\n",
    "    y = C / FV\n",
    "    for i in range(itr):\n",
    "        y = y - F(y, C, FV, N, PV) / dF(y, C, FV, N, PV)\n",
    "    return y * 100"
   ]
  },
  {
   "cell_type": "code",
   "execution_count": 4,
   "metadata": {},
   "outputs": [
    {
     "data": {
      "text/plain": [
       "2.1202829427100416"
      ]
     },
     "execution_count": 4,
     "metadata": {},
     "output_type": "execute_result"
    }
   ],
   "source": [
    "YTM(C=10, FV=1000, N=10, PV=-900)"
   ]
  }
 ],
 "metadata": {
  "kernelspec": {
   "display_name": "Python 3",
   "language": "python",
   "name": "python3"
  },
  "language_info": {
   "codemirror_mode": {
    "name": "ipython",
    "version": 3
   },
   "file_extension": ".py",
   "mimetype": "text/x-python",
   "name": "python",
   "nbconvert_exporter": "python",
   "pygments_lexer": "ipython3",
   "version": "3.6.5"
  }
 },
 "nbformat": 4,
 "nbformat_minor": 2
}
