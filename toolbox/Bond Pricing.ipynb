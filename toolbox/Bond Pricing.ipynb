{
 "cells": [
  {
   "cell_type": "markdown",
   "metadata": {},
   "source": [
    "# Dependencies"
   ]
  },
  {
   "cell_type": "markdown",
   "metadata": {},
   "source": [
    "- math module"
   ]
  },
  {
   "cell_type": "markdown",
   "metadata": {},
   "source": [
    "# Traditional Bond"
   ]
  },
  {
   "cell_type": "markdown",
   "metadata": {},
   "source": [
    "$$\n",
    "PV = - (C[\\frac{1 - \\frac{1}{(1+y)^N}}{y}] + \\frac{FV}{(1+y)^N})\n",
    "$$"
   ]
  },
  {
   "cell_type": "markdown",
   "metadata": {},
   "source": [
    "## Yield to Maturity (YTM)"
   ]
  },
  {
   "cell_type": "markdown",
   "metadata": {},
   "source": [
    "Using the Newton-Raphson method: \n",
    "$$y_{n+1} = y_n - \\frac{F(y_n)}{F'(y_n)}$$\n",
    "where \n",
    "$$ F(y) = \\frac{C}{1+y} + \\frac{C}{(1+y)^2} + ... + \\frac{C}{(1+y)^N} + \\frac{FV}{(1+y)^N} + PV \\\\ = C[ \\frac{1 - \\frac{1}{(1 + y)^N} }{y}] + \\frac{FV}{(1+y)^N} + PV $$\n",
    "and\n",
    "$$ F'(y) = -\\frac{C}{(1+y)^2} - \\frac{2C}{(1+y)^3} - ... - \\frac{N * C}{(1 + y)^{N+1}} - \\frac {N * FV}{(1+y)^{N+1}} \\\\ = -C \\{ \\frac{1}{y^2}[1 - \\frac{1}{(1 + y)^N}] - \\frac{N}{y (1 + y)^{N+1}} \\}$$"
   ]
  },
  {
   "cell_type": "code",
   "execution_count": 1,
   "metadata": {},
   "outputs": [],
   "source": [
    "def F(y, c, fv, n, pv):\n",
    "    return c * ( (1 - 1 / ( (1 + y) ** n ) ) / y ) + fv / ( (1 + y) ** n ) + pv"
   ]
  },
  {
   "cell_type": "code",
   "execution_count": 2,
   "metadata": {},
   "outputs": [],
   "source": [
    "def dF(y, c, fv, n, pv):\n",
    "    return -c * ( (1 / y ** 2) * (1 -  1 / (1 + y) ** n ) ) - n / (y * (1 + y) ** (n + 1))"
   ]
  },
  {
   "cell_type": "code",
   "execution_count": 3,
   "metadata": {},
   "outputs": [],
   "source": [
    "def YTM(c, fv, n, pv, itr=1000):\n",
    "    \"\"\"\n",
    "        c: periodic coupon rate, or payment\n",
    "        fv: future value of the series of cash flows\n",
    "        n: number of periods\n",
    "        pv: present value of the cash flow\n",
    "        \n",
    "        The resulting YTM is a periodic rate.\n",
    "    \"\"\"\n",
    "    y = c / fv\n",
    "    for i in range(itr):\n",
    "        y = y - F(y, c, fv, n, pv) / dF(y, c, fv, n, pv)\n",
    "    return y * 100"
   ]
  },
  {
   "cell_type": "code",
   "execution_count": 4,
   "metadata": {},
   "outputs": [
    {
     "data": {
      "text/plain": [
       "2.1202829427100416"
      ]
     },
     "execution_count": 4,
     "metadata": {},
     "output_type": "execute_result"
    }
   ],
   "source": [
    "YTM(c=10, fv=1000, n=10, pv=-900)"
   ]
  },
  {
   "cell_type": "markdown",
   "metadata": {},
   "source": [
    "## Present Value (PV) and Future Value (FV)"
   ]
  },
  {
   "cell_type": "code",
   "execution_count": 5,
   "metadata": {},
   "outputs": [],
   "source": [
    "def PV(c, fv, n, y):\n",
    "    y /= 100\n",
    "    return - (c * (1 - 1 / (1+y) ** n) / y + fv / (1+y) ** n)"
   ]
  },
  {
   "cell_type": "code",
   "execution_count": 6,
   "metadata": {},
   "outputs": [],
   "source": [
    "def FV(c, pv, n, y):\n",
    "    y /= 100\n",
    "    return (1 + y) ** n * (-pv - c / y) + c / y"
   ]
  },
  {
   "cell_type": "code",
   "execution_count": 7,
   "metadata": {
    "scrolled": true
   },
   "outputs": [
    {
     "data": {
      "text/plain": [
       "-899.9999999999957"
      ]
     },
     "execution_count": 7,
     "metadata": {},
     "output_type": "execute_result"
    }
   ],
   "source": [
    "PV(10, 1000, 10, 2.1202829427100416)"
   ]
  },
  {
   "cell_type": "code",
   "execution_count": 8,
   "metadata": {},
   "outputs": [
    {
     "data": {
      "text/plain": [
       "1000.0000000000053"
      ]
     },
     "execution_count": 8,
     "metadata": {},
     "output_type": "execute_result"
    }
   ],
   "source": [
    "FV(10, -900, 10, 2.1202829427100416)"
   ]
  },
  {
   "cell_type": "markdown",
   "metadata": {},
   "source": [
    "## Number of Periods (N)"
   ]
  },
  {
   "cell_type": "markdown",
   "metadata": {},
   "source": [
    "$$\n",
    "N = \\frac{ln(\\frac{FV - C/y}{-PV - C/y})}{ln(1+y)}\n",
    "$$"
   ]
  },
  {
   "cell_type": "code",
   "execution_count": 9,
   "metadata": {},
   "outputs": [],
   "source": [
    "import math"
   ]
  },
  {
   "cell_type": "code",
   "execution_count": 10,
   "metadata": {},
   "outputs": [],
   "source": [
    "def N(c, pv, fv, y):\n",
    "    y /= 100\n",
    "    return math.log((fv - c/y) / (-pv - c/y)) / math.log(1+y)"
   ]
  },
  {
   "cell_type": "code",
   "execution_count": 11,
   "metadata": {},
   "outputs": [
    {
     "data": {
      "text/plain": [
       "9.999999999999515"
      ]
     },
     "execution_count": 11,
     "metadata": {},
     "output_type": "execute_result"
    }
   ],
   "source": [
    "N(10, -900, 1000, 2.1202829427100416)"
   ]
  },
  {
   "cell_type": "markdown",
   "metadata": {},
   "source": [
    "# Bootstrap Pricing"
   ]
  },
  {
   "cell_type": "markdown",
   "metadata": {},
   "source": [
    "Suppose we are given a list specifying YTMs of bonds with different maturities, and the same face value.  Based on the info, we want to construct a list of spot rates, as well as a list of one-period forward rates."
   ]
  },
  {
   "cell_type": "markdown",
   "metadata": {},
   "source": [
    "Some constraints on the given list:\n",
    "- We assume semi-annual periods;\n",
    "- The list should have values at the start and the end, otherwise we cannot apply linear interpolation;\n",
    "- 'None' implies that interpolation should be applied to the entry where the object is located."
   ]
  },
  {
   "cell_type": "markdown",
   "metadata": {},
   "source": [
    "Other notes:\n",
    "- We can, with no doubt, make use of numpy in linear interpolation, but that would be unnecessary for lightweight usage.\n",
    "- Assume without loss of generality that Par = $1,000.  In fact, whatever par we use, the result will be the same."
   ]
  },
  {
   "cell_type": "code",
   "execution_count": 14,
   "metadata": {},
   "outputs": [],
   "source": [
    "def linear_interpolation(ys):\n",
    "    if len(ys) == 0:\n",
    "        raise Exception('An empty list is provided.')\n",
    "    if ys[0] is None or ys[-1] is None:\n",
    "        raise Exception('')\n",
    "    start = -1\n",
    "    while start < len(ys):\n",
    "        while start < len(ys)-1 and ys[start+1] is not None:\n",
    "            start += 1\n",
    "        if start == len(ys)-1:\n",
    "            break\n",
    "        \n",
    "        end = start + 1\n",
    "        while end < len(ys) and ys[end] is None:\n",
    "            end += 1\n",
    "        if end == len(ys):\n",
    "            break\n",
    "        # fill in the points between start and end\n",
    "        delta = (ys[end] - ys[start]) / (end - start)\n",
    "        for i in range(end - start - 1):\n",
    "            ys[start+i+1] = ys[start+i] + delta\n",
    "        # continue\n",
    "        start = end\n",
    "    return ys"
   ]
  },
  {
   "cell_type": "code",
   "execution_count": 11,
   "metadata": {},
   "outputs": [],
   "source": [
    "ys_test = [1, 2, 3, None, 4, 8, None, None, 10]"
   ]
  },
  {
   "cell_type": "code",
   "execution_count": 15,
   "metadata": {},
   "outputs": [
    {
     "ename": "Exception",
     "evalue": "An empty list is provided.",
     "output_type": "error",
     "traceback": [
      "\u001b[0;31m---------------------------------------------------------------------------\u001b[0m",
      "\u001b[0;31mException\u001b[0m                                 Traceback (most recent call last)",
      "\u001b[0;32m<ipython-input-15-3ccef61dff2f>\u001b[0m in \u001b[0;36m<module>\u001b[0;34m()\u001b[0m\n\u001b[0;32m----> 1\u001b[0;31m \u001b[0mlinear_interpolation\u001b[0m\u001b[0;34m(\u001b[0m\u001b[0;34m[\u001b[0m\u001b[0;34m]\u001b[0m\u001b[0;34m)\u001b[0m\u001b[0;34m\u001b[0m\u001b[0m\n\u001b[0m",
      "\u001b[0;32m<ipython-input-14-4799dc3bd628>\u001b[0m in \u001b[0;36mlinear_interpolation\u001b[0;34m(ys)\u001b[0m\n\u001b[1;32m      1\u001b[0m \u001b[0;32mdef\u001b[0m \u001b[0mlinear_interpolation\u001b[0m\u001b[0;34m(\u001b[0m\u001b[0mys\u001b[0m\u001b[0;34m)\u001b[0m\u001b[0;34m:\u001b[0m\u001b[0;34m\u001b[0m\u001b[0m\n\u001b[1;32m      2\u001b[0m     \u001b[0;32mif\u001b[0m \u001b[0mlen\u001b[0m\u001b[0;34m(\u001b[0m\u001b[0mys\u001b[0m\u001b[0;34m)\u001b[0m \u001b[0;34m==\u001b[0m \u001b[0;36m0\u001b[0m\u001b[0;34m:\u001b[0m\u001b[0;34m\u001b[0m\u001b[0m\n\u001b[0;32m----> 3\u001b[0;31m         \u001b[0;32mraise\u001b[0m \u001b[0mException\u001b[0m\u001b[0;34m(\u001b[0m\u001b[0;34m'An empty list is provided.'\u001b[0m\u001b[0;34m)\u001b[0m\u001b[0;34m\u001b[0m\u001b[0m\n\u001b[0m\u001b[1;32m      4\u001b[0m     \u001b[0mstart\u001b[0m \u001b[0;34m=\u001b[0m \u001b[0;34m-\u001b[0m\u001b[0;36m1\u001b[0m\u001b[0;34m\u001b[0m\u001b[0m\n\u001b[1;32m      5\u001b[0m     \u001b[0;32mwhile\u001b[0m \u001b[0mstart\u001b[0m \u001b[0;34m<\u001b[0m \u001b[0mlen\u001b[0m\u001b[0;34m(\u001b[0m\u001b[0mys\u001b[0m\u001b[0;34m)\u001b[0m\u001b[0;34m:\u001b[0m\u001b[0;34m\u001b[0m\u001b[0m\n",
      "\u001b[0;31mException\u001b[0m: An empty list is provided."
     ]
    }
   ],
   "source": [
    "linear_interpolation([])"
   ]
  },
  {
   "cell_type": "code",
   "execution_count": null,
   "metadata": {},
   "outputs": [],
   "source": []
  }
 ],
 "metadata": {
  "kernelspec": {
   "display_name": "Python 3",
   "language": "python",
   "name": "python3"
  },
  "language_info": {
   "codemirror_mode": {
    "name": "ipython",
    "version": 3
   },
   "file_extension": ".py",
   "mimetype": "text/x-python",
   "name": "python",
   "nbconvert_exporter": "python",
   "pygments_lexer": "ipython3",
   "version": "3.6.5"
  }
 },
 "nbformat": 4,
 "nbformat_minor": 2
}
