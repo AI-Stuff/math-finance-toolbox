{
 "cells": [
  {
   "cell_type": "markdown",
   "metadata": {},
   "source": [
    "# Dependencies"
   ]
  },
  {
   "cell_type": "markdown",
   "metadata": {},
   "source": [
    "- math module"
   ]
  },
  {
   "cell_type": "markdown",
   "metadata": {},
   "source": [
    "# Traditional Bond"
   ]
  },
  {
   "cell_type": "markdown",
   "metadata": {},
   "source": [
    "$$\n",
    "PV = - (C[\\frac{1 - \\frac{1}{(1+y)^N}}{y}] + \\frac{FV}{(1+y)^N})\n",
    "$$"
   ]
  },
  {
   "cell_type": "markdown",
   "metadata": {},
   "source": [
    "## Yield to Maturity (YTM)"
   ]
  },
  {
   "cell_type": "markdown",
   "metadata": {},
   "source": [
    "Using the Newton-Raphson method: \n",
    "$$y_{n+1} = y_n - \\frac{F(y_n)}{F'(y_n)}$$\n",
    "where \n",
    "$$ F(y) = \\frac{C}{1+y} + \\frac{C}{(1+y)^2} + ... + \\frac{C}{(1+y)^N} + \\frac{FV}{(1+y)^N} + PV \\\\ = C[ \\frac{1 - \\frac{1}{(1 + y)^N} }{y}] + \\frac{FV}{(1+y)^N} + PV $$\n",
    "and\n",
    "$$ F'(y) = -\\frac{C}{(1+y)^2} - \\frac{2C}{(1+y)^3} - ... - \\frac{N * C}{(1 + y)^{N+1}} - \\frac {N * FV}{(1+y)^{N+1}} \\\\ = -C \\{ \\frac{1}{y^2}[1 - \\frac{1}{(1 + y)^N}] - \\frac{N}{y (1 + y)^{N+1}} \\}$$"
   ]
  },
  {
   "cell_type": "code",
   "execution_count": 1,
   "metadata": {},
   "outputs": [],
   "source": [
    "def F(y, c, fv, n, pv):\n",
    "    return c * ( (1 - 1 / ( (1 + y) ** n ) ) / y ) + fv / ( (1 + y) ** n ) + pv"
   ]
  },
  {
   "cell_type": "code",
   "execution_count": 2,
   "metadata": {},
   "outputs": [],
   "source": [
    "def dF(y, c, fv, n, pv):\n",
    "    return -c * ( (1 / y ** 2) * (1 -  1 / (1 + y) ** n ) ) - n / (y * (1 + y) ** (n + 1))"
   ]
  },
  {
   "cell_type": "code",
   "execution_count": 3,
   "metadata": {},
   "outputs": [],
   "source": [
    "def YTM(c, fv, n, pv, itr=1000):\n",
    "    \"\"\"\n",
    "        c: periodic coupon rate, or payment\n",
    "        fv: future value of the series of cash flows\n",
    "        n: number of periods\n",
    "        pv: present value of the cash flow\n",
    "        \n",
    "        The resulting YTM is a periodic rate.\n",
    "    \"\"\"\n",
    "    y = c / fv\n",
    "    for i in range(itr):\n",
    "        y = y - F(y, c, fv, n, pv) / dF(y, c, fv, n, pv)\n",
    "    return y * 100"
   ]
  },
  {
   "cell_type": "code",
   "execution_count": 4,
   "metadata": {},
   "outputs": [
    {
     "data": {
      "text/plain": [
       "2.1202829427100416"
      ]
     },
     "execution_count": 4,
     "metadata": {},
     "output_type": "execute_result"
    }
   ],
   "source": [
    "YTM(c=10, fv=1000, n=10, pv=-900)"
   ]
  },
  {
   "cell_type": "markdown",
   "metadata": {},
   "source": [
    "## Present Value (PV) and Future Value (FV)"
   ]
  },
  {
   "cell_type": "code",
   "execution_count": 5,
   "metadata": {},
   "outputs": [],
   "source": [
    "def PV(c, fv, n, y):\n",
    "    y /= 100\n",
    "    return - (c * (1 - 1 / (1+y) ** n) / y + fv / (1+y) ** n)"
   ]
  },
  {
   "cell_type": "code",
   "execution_count": 6,
   "metadata": {},
   "outputs": [],
   "source": [
    "def FV(c, pv, n, y):\n",
    "    y /= 100\n",
    "    return (1 + y) ** n * (-pv - c / y) + c / y"
   ]
  },
  {
   "cell_type": "code",
   "execution_count": 7,
   "metadata": {
    "scrolled": true
   },
   "outputs": [
    {
     "data": {
      "text/plain": [
       "-899.9999999999957"
      ]
     },
     "execution_count": 7,
     "metadata": {},
     "output_type": "execute_result"
    }
   ],
   "source": [
    "PV(10, 1000, 10, 2.1202829427100416)"
   ]
  },
  {
   "cell_type": "code",
   "execution_count": 8,
   "metadata": {},
   "outputs": [
    {
     "data": {
      "text/plain": [
       "1000.0000000000053"
      ]
     },
     "execution_count": 8,
     "metadata": {},
     "output_type": "execute_result"
    }
   ],
   "source": [
    "FV(10, -900, 10, 2.1202829427100416)"
   ]
  },
  {
   "cell_type": "markdown",
   "metadata": {},
   "source": [
    "## Number of Periods (N)"
   ]
  },
  {
   "cell_type": "markdown",
   "metadata": {},
   "source": [
    "$$\n",
    "N = \\frac{ln(\\frac{FV - C/y}{-PV - C/y})}{ln(1+y)}\n",
    "$$"
   ]
  },
  {
   "cell_type": "code",
   "execution_count": 9,
   "metadata": {},
   "outputs": [],
   "source": [
    "import math"
   ]
  },
  {
   "cell_type": "code",
   "execution_count": 10,
   "metadata": {},
   "outputs": [],
   "source": [
    "def N(c, pv, fv, y):\n",
    "    y /= 100\n",
    "    return math.log((fv - c/y) / (-pv - c/y)) / math.log(1+y)"
   ]
  },
  {
   "cell_type": "code",
   "execution_count": 11,
   "metadata": {},
   "outputs": [
    {
     "data": {
      "text/plain": [
       "9.999999999999515"
      ]
     },
     "execution_count": 11,
     "metadata": {},
     "output_type": "execute_result"
    }
   ],
   "source": [
    "N(10, -900, 1000, 2.1202829427100416)"
   ]
  },
  {
   "cell_type": "markdown",
   "metadata": {},
   "source": [
    "# Bootstrap Pricing"
   ]
  },
  {
   "cell_type": "markdown",
   "metadata": {},
   "source": [
    "Suppose we are given a list specifying YTMs of bonds with different maturities, and the same face value.  Based on the info, we want to construct a list of spot rates, as well as a list of one-period forward rates."
   ]
  },
  {
   "cell_type": "markdown",
   "metadata": {},
   "source": [
    "Some constraints on the given list:\n",
    "- We assume semi-annual periods;\n",
    "- The list should have values at the start and the end, otherwise we cannot apply linear interpolation;\n",
    "- 'None' implies that interpolation should be applied to the entry where the object is located."
   ]
  },
  {
   "cell_type": "markdown",
   "metadata": {},
   "source": [
    "Other notes:\n",
    "- We can, with no doubt, make use of numpy in linear interpolation, but that would be unnecessary for lightweight usage.\n",
    "- Assume without loss of generality that Par = $1,000.  In fact, whatever par we use, the result will be the same."
   ]
  },
  {
   "cell_type": "code",
   "execution_count": 12,
   "metadata": {},
   "outputs": [],
   "source": [
    "def linear_interpolation(ys):\n",
    "    if len(ys) == 0:\n",
    "        raise Exception('An empty list is provided')\n",
    "    if ys[0] is None or ys[-1] is None:\n",
    "        raise Exception('Values must be provided at two ends of the list')\n",
    "    start = -1\n",
    "    while start < len(ys):\n",
    "        while start < len(ys)-1 and ys[start+1] is not None:\n",
    "            start += 1\n",
    "        if start == len(ys)-1:\n",
    "            break\n",
    "        \n",
    "        end = start + 1\n",
    "        while end < len(ys) and ys[end] is None:\n",
    "            end += 1\n",
    "        if end == len(ys):\n",
    "            break\n",
    "        # fill in the points between start and end\n",
    "        delta = (ys[end] - ys[start]) / (end - start)\n",
    "        for i in range(end - start - 1):\n",
    "            ys[start+i+1] = ys[start+i] + delta\n",
    "        # continue\n",
    "        start = end\n",
    "    return ys"
   ]
  },
  {
   "cell_type": "code",
   "execution_count": 13,
   "metadata": {},
   "outputs": [],
   "source": [
    "ys_test = [None] * 10"
   ]
  },
  {
   "cell_type": "code",
   "execution_count": 14,
   "metadata": {},
   "outputs": [],
   "source": [
    "ys_test[0] = 8.\n",
    "ys_test[9] = 5.75"
   ]
  },
  {
   "cell_type": "code",
   "execution_count": 15,
   "metadata": {},
   "outputs": [
    {
     "data": {
      "text/plain": [
       "[8.0, 7.75, 7.5, 7.25, 7.0, 6.75, 6.5, 6.25, 6.0, 5.75]"
      ]
     },
     "execution_count": 15,
     "metadata": {},
     "output_type": "execute_result"
    }
   ],
   "source": [
    "linear_interpolation(ys_test)"
   ]
  },
  {
   "cell_type": "code",
   "execution_count": 16,
   "metadata": {},
   "outputs": [],
   "source": [
    "srs = [None] * len(ys_test)"
   ]
  },
  {
   "cell_type": "code",
   "execution_count": 17,
   "metadata": {},
   "outputs": [],
   "source": [
    "def spot_rates(ys, srs):\n",
    "    len_ys = len(ys)\n",
    "    if len_ys < 3:\n",
    "        return ys\n",
    "    srs = [None] * len_ys\n",
    "    srs[0:2] = ys[0:2]\n",
    "    for i in range(2, len_ys):\n",
    "        if srs[i] is None:\n",
    "            c = 1000 * ys[i] / 200\n",
    "            coupon_pv_total = 0\n",
    "            for j in range(i):\n",
    "                coupon_pv_total += c / (1 + srs[j] / 200) ** (j+1)\n",
    "            current_sr = (((1000 + c) / (1000 - coupon_pv_total)) ** (1/(i+1)) - 1) * 200\n",
    "            srs[i] = current_sr\n",
    "    return srs"
   ]
  },
  {
   "cell_type": "code",
   "execution_count": 18,
   "metadata": {},
   "outputs": [],
   "source": [
    "srs = spot_rates(ys_test, srs)"
   ]
  },
  {
   "cell_type": "code",
   "execution_count": 19,
   "metadata": {},
   "outputs": [
    {
     "data": {
      "text/plain": [
       "[8.0,\n",
       " 7.75,\n",
       " 7.487294045722326,\n",
       " 7.226940325883424,\n",
       " 6.964229195868654,\n",
       " 6.69948578849211,\n",
       " 6.43305157893983,\n",
       " 6.1652835671370365,\n",
       " 5.896551491608948,\n",
       " 5.6272342692710975]"
      ]
     },
     "execution_count": 19,
     "metadata": {},
     "output_type": "execute_result"
    }
   ],
   "source": [
    "srs"
   ]
  },
  {
   "cell_type": "code",
   "execution_count": 20,
   "metadata": {},
   "outputs": [],
   "source": [
    "def fwd_rates(srs):\n",
    "    \"\"\"\n",
    "        Given a list of spot rates, compute one-period forward rate\n",
    "    \"\"\"\n",
    "    len_srs = len(srs)\n",
    "    if len_srs == 0:\n",
    "        raise Exception(\"The spot rates list is empty\")\n",
    "    frs = [None] * len_srs\n",
    "    frs[0] = srs[0]\n",
    "    current_compound_factor = 1 + frs[0] / 200\n",
    "    for i in range(1, len_srs):\n",
    "        current_fwd_rate = ((1 + srs[i] / 200) ** (i+1) / (1 + srs[i-1] / 200) ** i - 1) * 200\n",
    "        frs[i] = current_fwd_rate\n",
    "    return frs"
   ]
  },
  {
   "cell_type": "code",
   "execution_count": 21,
   "metadata": {},
   "outputs": [
    {
     "data": {
      "text/plain": [
       "[8.0,\n",
       " 7.500300480769262,\n",
       " 6.962878315190935,\n",
       " 6.447837668188194,\n",
       " 5.9167109661543815,\n",
       " 5.380839892049316,\n",
       " 4.84164291671112,\n",
       " 4.300607443326365,\n",
       " 3.7592669248612154,\n",
       " 3.219176379446065]"
      ]
     },
     "execution_count": 21,
     "metadata": {},
     "output_type": "execute_result"
    }
   ],
   "source": [
    "fwd_rates(srs)"
   ]
  },
  {
   "cell_type": "code",
   "execution_count": 22,
   "metadata": {},
   "outputs": [],
   "source": [
    "srs_rounded = [round(r, 2) for r in srs]"
   ]
  },
  {
   "cell_type": "code",
   "execution_count": 23,
   "metadata": {},
   "outputs": [
    {
     "data": {
      "text/plain": [
       "[8.0, 7.75, 7.49, 7.23, 6.96, 6.7, 6.43, 6.17, 5.9, 5.63]"
      ]
     },
     "execution_count": 23,
     "metadata": {},
     "output_type": "execute_result"
    }
   ],
   "source": [
    "srs_rounded"
   ]
  },
  {
   "cell_type": "code",
   "execution_count": 24,
   "metadata": {},
   "outputs": [],
   "source": [
    "def price_with_spot_rates(srs, c, par):\n",
    "    n = len(srs)\n",
    "    price = 0\n",
    "    c /= 2\n",
    "    for i in range(n-1):\n",
    "        price += c / (1 + srs[i]/200) ** (i+1)\n",
    "        print(1 + srs[i]/200, i+1)\n",
    "    price += (par + c) / (1 + srs[n-1]/200) ** n\n",
    "    return price"
   ]
  },
  {
   "cell_type": "code",
   "execution_count": 25,
   "metadata": {
    "scrolled": true
   },
   "outputs": [
    {
     "name": "stdout",
     "output_type": "stream",
     "text": [
      "1.04 1\n",
      "1.03875 2\n",
      "1.03745 3\n",
      "1.03615 4\n",
      "1.0348 5\n",
      "1.0335 6\n",
      "1.03215 7\n"
     ]
    },
    {
     "data": {
      "text/plain": [
       "99.12286907270496"
      ]
     },
     "execution_count": 25,
     "metadata": {},
     "output_type": "execute_result"
    }
   ],
   "source": [
    "price_with_spot_rates(srs_rounded[0:8], 6, 100)"
   ]
  },
  {
   "cell_type": "markdown",
   "metadata": {},
   "source": [
    "# Measurement of Bond Price Volatility"
   ]
  },
  {
   "cell_type": "markdown",
   "metadata": {},
   "source": [
    "## Price Value of a Basis Point (PVBP), or Dollar Value of an 01 (DV01)"
   ]
  },
  {
   "cell_type": "markdown",
   "metadata": {},
   "source": [
    "$$PVBP = -\\frac{1}{10000} \\frac{dP}{dy}$$"
   ]
  },
  {
   "cell_type": "code",
   "execution_count": 26,
   "metadata": {},
   "outputs": [],
   "source": [
    "def PVBP(c, fv, n, y):\n",
    "    # y should always greater than .01\n",
    "    return -1 * (PV(c, fv, n, y-.01) - PV(c, fv, n, y))"
   ]
  },
  {
   "cell_type": "code",
   "execution_count": 27,
   "metadata": {},
   "outputs": [
    {
     "data": {
      "text/plain": [
       "0.6037419616181978"
      ]
     },
     "execution_count": 27,
     "metadata": {},
     "output_type": "execute_result"
    }
   ],
   "source": [
    "PVBP(5, 1000, 10, 5)"
   ]
  },
  {
   "cell_type": "markdown",
   "metadata": {},
   "source": [
    "# Forward and Futures on Bonds"
   ]
  },
  {
   "cell_type": "markdown",
   "metadata": {},
   "source": [
    "## Swap Rate"
   ]
  },
  {
   "cell_type": "markdown",
   "metadata": {},
   "source": [
    "Using the Newton-Raphson method: \n",
    "$$y_{n+1} = y_n - \\frac{F(y_n)}{F'(y_n)}$$\n",
    "where \n",
    "$$ F(y) = \\frac{{CF}_1}{1+y} + \\frac{{CF}_2}{(1+y)^2} + ... + \\frac{{CF}_N}{(1+y)^N} + \\frac{FV}{(1+y)^N} + PV$$\n",
    "and\n",
    "$$ F'(y) = -\\frac{{CF}_1}{(1+y)^2} - \\frac{2{CF}_2}{(1+y)^3} - ... - \\frac{N * {CF}_N}{(1 + y)^{N+1}} - \\frac {N * FV}{(1+y)^{N+1}}$$"
   ]
  },
  {
   "cell_type": "code",
   "execution_count": 28,
   "metadata": {},
   "outputs": [],
   "source": [
    "def pv_cfs(y, cfs):\n",
    "    for i, cf in enumerate(cfs):\n",
    "        yield cf/(1+y)**(i+1)"
   ]
  },
  {
   "cell_type": "code",
   "execution_count": 29,
   "metadata": {},
   "outputs": [],
   "source": [
    "def swap_F(y, cfs, fv, n, pv):\n",
    "    return sum(pv_cfs(y, cfs)) + fv / (1+y)**n + pv"
   ]
  },
  {
   "cell_type": "code",
   "execution_count": 30,
   "metadata": {},
   "outputs": [],
   "source": [
    "def swap_dF(y, cfs, fv, n, pv):\n",
    "    return -(n * fv / (1+y) ** (n+1)) - sum([cf * (i+1) / (1+y)**(i+2) for cf, i in enumerate(cfs)])"
   ]
  },
  {
   "cell_type": "code",
   "execution_count": 31,
   "metadata": {},
   "outputs": [],
   "source": [
    "def swap_rate(cfs, fv, n, pv, itr=10000):\n",
    "    \"\"\"\n",
    "        cfs: periodic cash flows, or payment\n",
    "        fv: future value of the series of cash flows\n",
    "        n: number of periods\n",
    "        pv: present value of the cash flow\n",
    "        \n",
    "        The resulting YTM is a periodic rate.\n",
    "    \"\"\"\n",
    "    y = cfs[0] / fv\n",
    "    for i in range(itr):\n",
    "        y = y - swap_F(y, cfs, fv, n, pv) / swap_dF(y, cfs, fv, n, pv)\n",
    "    return y * 100"
   ]
  },
  {
   "cell_type": "code",
   "execution_count": 32,
   "metadata": {},
   "outputs": [
    {
     "data": {
      "text/plain": [
       "3.2460072926697308"
      ]
     },
     "execution_count": 32,
     "metadata": {},
     "output_type": "execute_result"
    }
   ],
   "source": [
    "swap_rate([3, 3.5], 100, 2, -100)"
   ]
  },
  {
   "cell_type": "code",
   "execution_count": 33,
   "metadata": {},
   "outputs": [
    {
     "data": {
      "text/plain": [
       "3.4885719047856742"
      ]
     },
     "execution_count": 33,
     "metadata": {},
     "output_type": "execute_result"
    }
   ],
   "source": [
    "swap_rate([3, 3.5, 4], 100, 3, -100)"
   ]
  },
  {
   "cell_type": "markdown",
   "metadata": {},
   "source": [
    "# Interest Rate Models"
   ]
  },
  {
   "cell_type": "markdown",
   "metadata": {},
   "source": [
    "Note: all rates are in percentage."
   ]
  },
  {
   "cell_type": "markdown",
   "metadata": {},
   "source": [
    "## The Kalotay-Williams-Fabozzi (KWF) Model"
   ]
  },
  {
   "cell_type": "markdown",
   "metadata": {},
   "source": [
    "The KWF model is a one-factor recombinant binomial interest rate tree model, which assumes constant volatility yet varying base interest rates over each period. <br>\n",
    "Given:\n",
    "- the par bond yields $y_n$ at the end of periods,\n",
    "- number of periods $n$, and \n",
    "- periodic volatility $\\sigma$,\n",
    "\n",
    "and assuming:\n",
    "- no arbitrage\n",
    "- risk-neutral probability $p$ at each branch is $\\frac{1}{2}$,\n",
    "\n",
    "we can solve for the parameters $r_n$'s over each period $n$, and use the resulting tree to value other financial instruments."
   ]
  },
  {
   "cell_type": "markdown",
   "metadata": {},
   "source": [
    "But we need a representation of the tree to start with.  As always, let's start from the simplest two-period tree.  If it is single-period, then we don't have to play around with a tree."
   ]
  },
  {
   "cell_type": "markdown",
   "metadata": {},
   "source": [
    "Basically we have the following equation:\n",
    "$$\n",
    "\\begin{equation*}\n",
    "100 = \\frac{\\frac{1}{2} \\cdot \\frac{100 + y_1}{1+r_1 e^{2\\sigma}/100} + \\frac{1}{2} \\cdot \\frac{100 + y_1}{1 + r_1/100} + y_1}{1 + r_0/100},\n",
    "\\end{equation*}\n",
    "$$\n",
    "where $r_1$ is the variable of interest; $r_0 = y_0$; $\\sigma =$ periodic volatility."
   ]
  },
  {
   "cell_type": "code",
   "execution_count": 34,
   "metadata": {},
   "outputs": [],
   "source": [
    "import math"
   ]
  },
  {
   "cell_type": "code",
   "execution_count": 35,
   "metadata": {},
   "outputs": [],
   "source": [
    "def kwf_branch(sigma, r_0, y_1):\n",
    "    \"\"\"\n",
    "    Assume par is 100.\n",
    "    \n",
    "        sigma: periodic volatility\n",
    "        r_0: first period spot rate/par yield\n",
    "        y_1: 2-period par bond yield\n",
    "    \"\"\"\n",
    "    c = (100 + y_1) / ( 100 + r_0 - y_1 ) / 2\n",
    "    up_factor = math.exp(-2 * sigma)\n",
    "    r_1 = (-(1 + up_factor)*(1-c) + math.sqrt((1+up_factor)**2 * (1-c)**2 \n",
    "                                                 - 4 * (1-2*c) * up_factor)) / 2\n",
    "    return r_1 * 100"
   ]
  },
  {
   "cell_type": "code",
   "execution_count": 36,
   "metadata": {},
   "outputs": [
    {
     "data": {
      "text/plain": [
       "2.433966177663077"
      ]
     },
     "execution_count": 36,
     "metadata": {},
     "output_type": "execute_result"
    }
   ],
   "source": [
    "kwf_branch(.1, 2.5, 2.6)"
   ]
  }
 ],
 "metadata": {
  "kernelspec": {
   "display_name": "Python 3",
   "language": "python",
   "name": "python3"
  },
  "language_info": {
   "codemirror_mode": {
    "name": "ipython",
    "version": 3
   },
   "file_extension": ".py",
   "mimetype": "text/x-python",
   "name": "python",
   "nbconvert_exporter": "python",
   "pygments_lexer": "ipython3",
   "version": "3.6.5"
  }
 },
 "nbformat": 4,
 "nbformat_minor": 2
}
